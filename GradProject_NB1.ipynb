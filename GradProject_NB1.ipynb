{
 "cells": [
  {
   "cell_type": "markdown",
   "metadata": {},
   "source": [
    "<h1> DS200A Computer Vision Assignment</h1>"
   ]
  },
  {
   "cell_type": "markdown",
   "metadata": {},
   "source": [
    "<h2>  Part One: Data Preparation </h2>\t\n"
   ]
  },
  {
   "cell_type": "markdown",
   "metadata": {},
   "source": [
    "<h3>  Import Statements </h3>\t\n"
   ]
  },
  {
   "cell_type": "code",
   "execution_count": 1,
   "metadata": {},
   "outputs": [
    {
     "name": "stderr",
     "output_type": "stream",
     "text": [
      "Process STDOUT and STDERR is being redirected to /tmp/raylogs/.\n",
      "Waiting for redis server at 127.0.0.1:43834 to respond...\n",
      "Waiting for redis server at 127.0.0.1:20668 to respond...\n",
      "Starting the Plasma object store with 6.00 GB memory.\n",
      "Starting local scheduler with the following resources: {'CPU': 4, 'GPU': 0}.\n"
     ]
    },
    {
     "data": {
      "text/plain": [
       "{'local_scheduler_socket_names': ['/tmp/scheduler97481089'],\n",
       " 'node_ip_address': '10.0.0.56',\n",
       " 'object_store_addresses': [ObjectStoreAddress(name='/tmp/plasma_store67430962', manager_name='/tmp/plasma_manager38627584', manager_port=18407)],\n",
       " 'raylet_socket_names': [],\n",
       " 'redis_address': '10.0.0.56:43834',\n",
       " 'webui_url': ''}"
      ]
     },
     "execution_count": 1,
     "metadata": {},
     "output_type": "execute_result"
    }
   ],
   "source": [
    "#Import anything you need here\n",
    "import numpy as np\n",
    "import matplotlib.pyplot as plt\n",
    "import pandas as pd\n",
    "import matplotlib\n",
    "import skimage\n",
    "from skimage import data\n",
    "from skimage import io\n",
    "import os\n",
    "import time\n",
    "import pickle\n",
    "import ray\n",
    "ray.init(include_webui=False, num_cpus=4)"
   ]
  },
  {
   "cell_type": "markdown",
   "metadata": {},
   "source": [
    "<h4> Using the code for reference, take the given folder and create a dataframe with the picture object, and the encoding as listed below. </h4>\t\n",
    "0=Airplanes, 1=Bear, 2=Blimp, 3=Comet, 4=Crab, 5=Dog, 6=Dolphin, 7=Giraffe, 8=Goat, 9=Gorilla, 10=Kangaroo, 11=Killer-Whale, 12=Leopards, 13=Llama, 14= Penguin, 15= Porcupine, 16=Teddy-Bear, 17=Triceratops, 18=Unicorn, 19=Zebra"
   ]
  },
  {
   "cell_type": "code",
   "execution_count": 2,
   "metadata": {},
   "outputs": [],
   "source": [
    "def get_transformed_image_from_path(file_path, outFile_size):\n",
    "    image = io.imread(file_path)\n",
    "    aspect = image.shape[1]/image.shape[0]\n",
    "#     print(aspect)\n",
    "    transformed_image = skimage.transform.resize(image, outFile_size, preserve_range=True)\n",
    "    return transformed_image, aspect\n",
    "\n",
    "@ray.remote(num_return_vals=2)\n",
    "def get_transformed_image_from_path_remote(file_path, outFile_size):\n",
    "    return get_transformed_image_from_path(file_path, outFile_size)\n",
    "\n",
    "def read_organize_data(dir_path, outFile_size):\n",
    "    #Stores encodings\n",
    "    \n",
    "    category_list = [\"Airplanes\",\"Bear\",\"Blimp\",\"Comet\",\"Crab\",\"Dog\",\"Dolphin\",\"Giraffe\",\n",
    "                     \"Goat\",\"Gorilla\",\"Kangaroo\",\"Killer-Whale\",\"Leopards\",\"Llama\",\n",
    "                     \"Penguin\",\"Porcupine\",\"Teddy-Bear\",\"Triceratops\",\"Unicorn\",\"Zebra\"]\n",
    "    category_list = list(map(lambda x: x.lower(), category_list))\n",
    "    category_encodings = dict(zip(category_list, range(len(category_list))))\n",
    "# #     Uncomment to view category encoding dict\n",
    "#     print(category_encodings)\n",
    "    \n",
    "    image_df = pd.DataFrame(columns = ['image', 'class'])\n",
    "    data, encodings, aspects, filenames = [], [], [], []\n",
    "    \n",
    "    for category in os.listdir(dir_path):\n",
    "        if category[0] != '.':    #Protecting against temporary files (Windows fix)\n",
    "            for file_name in os.listdir(dir_path + category):\n",
    "                if file_name[0] != '.':\n",
    "                    file_encode = category_encodings[category]\n",
    "                    file_path = dir_path + category + '/' + file_name\n",
    "                    image_data, aspect = get_transformed_image_from_path_remote.remote(file_path, outFile_size) #\n",
    "# #                     Uncomment to view thumbnails for all training images\n",
    "#                     plt.figure()\n",
    "#                     io.imshow(image_data)\n",
    "\n",
    "                    filenames.append(file_name)\n",
    "                    encodings.append(file_encode)\n",
    "                    data.append(image_data)\n",
    "                    aspects.append(aspect)\n",
    "    \n",
    "    image_df['filename'] = filenames    \n",
    "    image_df['class'] = encodings        \n",
    "    image_df['image'] = ray.get(data) \n",
    "    image_df['aspect'] = ray.get(aspects)\n",
    "    return image_df"
   ]
  },
  {
   "cell_type": "code",
   "execution_count": 3,
   "metadata": {},
   "outputs": [
    {
     "name": "stdout",
     "output_type": "stream",
     "text": [
      "Time to compute results: 14.584067583084106 seconds\n"
     ]
    }
   ],
   "source": [
    "data_dir = \"data/20_categories_training/\"\n",
    "resize_to = (128, 128)\n",
    "start_time = time.time()\n",
    "starting_data = read_organize_data(data_dir, resize_to)\n",
    "end_time = time.time()\n",
    "print(\"Time to compute results: {} seconds\".format(end_time - start_time))\n",
    "# starting_data.head()"
   ]
  },
  {
   "cell_type": "code",
   "execution_count": 4,
   "metadata": {},
   "outputs": [],
   "source": [
    "# store starting_data\n",
    "# starting_data[:1][\"image\"][0]\n",
    "starting_data.to_pickle(\"./starting_data.pkl\")"
   ]
  },
  {
   "cell_type": "code",
   "execution_count": null,
   "metadata": {},
   "outputs": [],
   "source": []
  }
 ],
 "metadata": {
  "kernelspec": {
   "display_name": "Python 3",
   "language": "python",
   "name": "python3"
  },
  "language_info": {
   "codemirror_mode": {
    "name": "ipython",
    "version": 3
   },
   "file_extension": ".py",
   "mimetype": "text/x-python",
   "name": "python",
   "nbconvert_exporter": "python",
   "pygments_lexer": "ipython3",
   "version": "3.6.4"
  }
 },
 "nbformat": 4,
 "nbformat_minor": 2
}
