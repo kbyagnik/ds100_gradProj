{
 "cells": [
  {
   "cell_type": "markdown",
   "metadata": {},
   "source": [
    "<h1> DS200A Computer Vision Assignment</h1>"
   ]
  },
  {
   "cell_type": "markdown",
   "metadata": {},
   "source": [
    "<h2>  Part One: Data Preparation </h2>\t\n"
   ]
  },
  {
   "cell_type": "markdown",
   "metadata": {},
   "source": [
    "<h3>  Import Statements </h3>\t\n"
   ]
  },
  {
   "cell_type": "code",
   "execution_count": 1,
   "metadata": {},
   "outputs": [
    {
     "name": "stderr",
     "output_type": "stream",
     "text": [
      "Process STDOUT and STDERR is being redirected to /tmp/raylogs/.\n",
      "Waiting for redis server at 127.0.0.1:62788 to respond...\n",
      "Waiting for redis server at 127.0.0.1:27851 to respond...\n",
      "Starting the Plasma object store with 6.00 GB memory.\n",
      "Starting local scheduler with the following resources: {'CPU': 4, 'GPU': 0}.\n"
     ]
    },
    {
     "data": {
      "text/plain": [
       "{'local_scheduler_socket_names': ['/tmp/scheduler74387804'],\n",
       " 'node_ip_address': '10.0.0.56',\n",
       " 'object_store_addresses': [ObjectStoreAddress(name='/tmp/plasma_store58322992', manager_name='/tmp/plasma_manager67488520', manager_port=24080)],\n",
       " 'raylet_socket_names': [],\n",
       " 'redis_address': '10.0.0.56:62788',\n",
       " 'webui_url': ''}"
      ]
     },
     "execution_count": 1,
     "metadata": {},
     "output_type": "execute_result"
    }
   ],
   "source": [
    "#Import anything you need here\n",
    "import numpy as np\n",
    "import matplotlib.pyplot as plt\n",
    "import pandas as pd\n",
    "import matplotlib\n",
    "import skimage\n",
    "from skimage import data\n",
    "from skimage import io\n",
    "import os\n",
    "import time\n",
    "import ray\n",
    "ray.init(include_webui=False, num_cpus=4)"
   ]
  },
  {
   "cell_type": "markdown",
   "metadata": {},
   "source": [
    "<h4> Using the code for reference, take the given folder and create a dataframe with the picture object, and the encoding as listed below. </h4>\t\n",
    "0=Airplanes, 1=Bear, 2=Blimp, 3=Comet, 4=Crab, 5=Dog, 6=Dolphin, 7=Giraffe, 8=Goat, 9=Gorilla, 10=Kangaroo, 11=Killer-Whale, 12=Leopards, 13=Llama, 14= Penguin, 15= Porcupine, 16=Teddy-Bear, 17=Triceratops, 18=Unicorn, 19=Zebra"
   ]
  },
  {
   "cell_type": "code",
   "execution_count": 2,
   "metadata": {},
   "outputs": [],
   "source": [
    "def get_transformed_image_from_path(file_path, outFile_size):\n",
    "    transformed_image = skimage.transform.resize(io.imread(file_path), outFile_size)\n",
    "    return transformed_image\n",
    "\n",
    "@ray.remote\n",
    "def get_transformed_image_from_path_remote(file_path, outFile_size):\n",
    "    return get_transformed_image_from_path(file_path, outFile_size)\n",
    "\n",
    "def read_organize_data(dir_path, outFile_size):\n",
    "    #Stores encodings\n",
    "    \n",
    "    category_list = [\"Airplanes\",\"Bear\",\"Blimp\",\"Comet\",\"Crab\",\"Dog\",\"Dolphin\",\"Giraffe\",\n",
    "                     \"Goat\",\"Gorilla\",\"Kangaroo\",\"Killer-Whale\",\"Leopards\",\"Llama\",\n",
    "                     \"Penguin\",\"Porcupine\",\"Teddy-Bear\",\"Triceratops\",\"Unicorn\",\"Zebra\"]\n",
    "    category_list = list(map(lambda x: x.lower(), category_list))\n",
    "    category_encodings = dict(zip(category_list, range(len(category_list))))\n",
    "# #     Uncomment to view category encoding dict\n",
    "#     print(category_encodings)\n",
    "    \n",
    "    image_df = pd.DataFrame(columns = ['Pictures', 'Encoding'])\n",
    "    data, encodings = [], []\n",
    "    for category in os.listdir(dir_path):\n",
    "        if category[0] != '.':    #Protecting against temporary files (Windows fix)\n",
    "            for file_name in os.listdir(dir_path + category):\n",
    "                if file_name[0] != '.':\n",
    "                    file_encode = category_encodings[category]\n",
    "                    file_path = dir_path + category + '/' + file_name\n",
    "                    image_data = get_transformed_image_from_path_remote.remote(file_path, outFile_size) #\n",
    "# #                     Uncomment to view thumbnails for all training images\n",
    "#                     plt.figure()\n",
    "#                     io.imshow(image_data)\n",
    "\n",
    "                    encodings.append(file_encode)\n",
    "                    data.append(image_data)\n",
    "    \n",
    "    image_df['Encoding'] = encodings        \n",
    "    image_df['Pictures'] = ray.get(data) \n",
    "    return image_df"
   ]
  },
  {
   "cell_type": "code",
   "execution_count": 3,
   "metadata": {},
   "outputs": [
    {
     "name": "stdout",
     "output_type": "stream",
     "text": [
      "Time to compute results: 17.147059202194214 seconds\n"
     ]
    }
   ],
   "source": [
    "data_dir = \"data/20_categories_training/\"\n",
    "resize_to = (128, 128)\n",
    "start_time = time.time()\n",
    "\n",
    "starting_data = read_organize_data(data_dir, resize_to)\n",
    "end_time = time.time()\n",
    "print(\"Time to compute results: {} seconds\".format(end_time - start_time))\n",
    "\n",
    "\n",
    "\n",
    "# starting_data"
   ]
  },
  {
   "cell_type": "code",
   "execution_count": 4,
   "metadata": {},
   "outputs": [
    {
     "data": {
      "text/plain": [
       "1501"
      ]
     },
     "metadata": {},
     "output_type": "display_data"
    }
   ],
   "source": [
    "display(sum(starting_data[\"Encoding\"].value_counts()))"
   ]
  }
 ],
 "metadata": {
  "kernelspec": {
   "display_name": "Python 3",
   "language": "python",
   "name": "python3"
  },
  "language_info": {
   "codemirror_mode": {
    "name": "ipython",
    "version": 3
   },
   "file_extension": ".py",
   "mimetype": "text/x-python",
   "name": "python",
   "nbconvert_exporter": "python",
   "pygments_lexer": "ipython3",
   "version": "3.6.4"
  }
 },
 "nbformat": 4,
 "nbformat_minor": 2
}
