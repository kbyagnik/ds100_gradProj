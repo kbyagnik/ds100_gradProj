{
 "cells": [
  {
   "cell_type": "markdown",
   "metadata": {},
   "source": [
    "<h1> DS200A Computer Vision Assignment</h1>"
   ]
  },
  {
   "cell_type": "markdown",
   "metadata": {},
   "source": [
    "<h2>  Part Four: Extension Activities</h2>\t\n"
   ]
  },
  {
   "cell_type": "markdown",
   "metadata": {},
   "source": [
    "TensorFlow (Optional)- Now, try using TensorFlow to categorize your images. The accuracy should be significantly higher due to the usage of nueral nets\n",
    "\n"
   ]
  },
  {
   "cell_type": "code",
   "execution_count": 1,
   "metadata": {},
   "outputs": [
    {
     "name": "stderr",
     "output_type": "stream",
     "text": [
      "Using TensorFlow backend.\n"
     ]
    }
   ],
   "source": [
    "import tensorflow as tf\n",
    "import keras\n",
    "import pandas as pd\n",
    "import numpy as np\n",
    "from sklearn.model_selection import train_test_split\n",
    "from keras.layers import Conv2D, MaxPooling2D, Flatten, Dense"
   ]
  },
  {
   "cell_type": "code",
   "execution_count": 2,
   "metadata": {},
   "outputs": [],
   "source": [
    "train_df = pd.read_pickle(\"starting_data.pkl\").drop(labels=[\"filename\", \"aspect\"], axis = 1)"
   ]
  },
  {
   "cell_type": "code",
   "execution_count": 3,
   "metadata": {},
   "outputs": [],
   "source": [
    "def normalize(image):\n",
    "    if len(image.shape) == 2:\n",
    "        temp = np.zeros((image.shape[0], image.shape[1], 3))\n",
    "        for i in range(3):\n",
    "            temp[:,:,i] = image\n",
    "        image = temp\n",
    "    return image\n",
    "\n",
    "train_df['image'] = train_df['image'].apply(normalize)"
   ]
  },
  {
   "cell_type": "code",
   "execution_count": 4,
   "metadata": {},
   "outputs": [],
   "source": [
    "def transform(arr):\n",
    "    new_arr = np.zeros((len(arr), 128, 128, 3))\n",
    "    for i in range(len(arr)):\n",
    "        new_arr[i] = arr[i]\n",
    "    return new_arr"
   ]
  },
  {
   "cell_type": "code",
   "execution_count": 5,
   "metadata": {},
   "outputs": [],
   "source": [
    "train, valid = train_test_split(train_df, test_size=0.1, random_state=42, shuffle=True, stratify=train_df['class'])\n",
    "\n",
    "train_x, train_y = np.array(train['image']), np.array(train['class'])\n",
    "train_x = transform(train_x / 255)\n",
    "valid_x, valid_y = np.array(valid['image']), np.array(valid['class'])\n",
    "valid_x = transform(valid_x / 255)"
   ]
  },
  {
   "cell_type": "code",
   "execution_count": 18,
   "metadata": {},
   "outputs": [
    {
     "name": "stdout",
     "output_type": "stream",
     "text": [
      "Epoch 1/17\n",
      "1350/1350 [==============================] - 7s 5ms/step - loss: 8.2646 - acc: 0.0719\n",
      "Epoch 2/17\n",
      "1350/1350 [==============================] - 6s 4ms/step - loss: 6.7005 - acc: 0.1370\n",
      "Epoch 3/17\n",
      "1350/1350 [==============================] - 6s 4ms/step - loss: 5.5181 - acc: 0.1659\n",
      "Epoch 4/17\n",
      "1350/1350 [==============================] - 6s 4ms/step - loss: 4.6163 - acc: 0.2267\n",
      "Epoch 5/17\n",
      "1350/1350 [==============================] - 6s 4ms/step - loss: 4.2105 - acc: 0.2163\n",
      "Epoch 6/17\n",
      "1350/1350 [==============================] - 6s 4ms/step - loss: 3.5887 - acc: 0.2622\n",
      "Epoch 7/17\n",
      "1350/1350 [==============================] - 6s 5ms/step - loss: 3.1057 - acc: 0.3548\n",
      "Epoch 8/17\n",
      "1350/1350 [==============================] - 6s 4ms/step - loss: 2.7474 - acc: 0.4681\n",
      "Epoch 9/17\n",
      "1350/1350 [==============================] - 6s 4ms/step - loss: 2.5071 - acc: 0.4993\n",
      "Epoch 10/17\n",
      "1350/1350 [==============================] - 6s 5ms/step - loss: 2.4003 - acc: 0.5244\n",
      "Epoch 11/17\n",
      "1350/1350 [==============================] - 6s 5ms/step - loss: 2.1791 - acc: 0.5926\n",
      "Epoch 12/17\n",
      "1350/1350 [==============================] - 6s 4ms/step - loss: 2.0939 - acc: 0.6037\n",
      "Epoch 13/17\n",
      "1350/1350 [==============================] - 6s 4ms/step - loss: 1.8360 - acc: 0.6978\n",
      "Epoch 14/17\n",
      "1350/1350 [==============================] - 6s 5ms/step - loss: 1.6666 - acc: 0.7444\n",
      "Epoch 15/17\n",
      "1350/1350 [==============================] - 6s 5ms/step - loss: 1.5524 - acc: 0.7904\n",
      "Epoch 16/17\n",
      "1350/1350 [==============================] - 6s 5ms/step - loss: 1.4093 - acc: 0.8415\n",
      "Epoch 17/17\n",
      "1350/1350 [==============================] - 6s 4ms/step - loss: 1.2539 - acc: 0.8896\n"
     ]
    },
    {
     "data": {
      "text/plain": [
       "<keras.callbacks.History at 0x1a6ec918ac8>"
      ]
     },
     "execution_count": 18,
     "metadata": {},
     "output_type": "execute_result"
    }
   ],
   "source": [
    "model = keras.Sequential()\n",
    "model.add(Conv2D(32, (3,3), input_shape = (128, 128, 3), activation = 'relu'))\n",
    "model.add(MaxPooling2D(pool_size = (2, 2)))\n",
    "model.add(Conv2D(32, (3, 3), activation = 'relu'))\n",
    "model.add(MaxPooling2D(pool_size = (2, 2)))\n",
    "model.add(Flatten())\n",
    "model.add(Dense(128, activation = 'relu', kernel_regularizer=keras.regularizers.l2(0.001)))\n",
    "model.add(keras.layers.Dense(64, activation = 'relu', kernel_regularizer=keras.regularizers.l2(0.05)))\n",
    "model.add(keras.layers.Dense(20, activation = 'sigmoid', kernel_regularizer=keras.regularizers.l2(0.05)))\n",
    "\n",
    "model.compile(optimizer=tf.train.AdamOptimizer(), \n",
    "              loss='sparse_categorical_crossentropy',\n",
    "              metrics=['accuracy'])\n",
    "model.fit(train_x, train_y, batch_size = 64, epochs = 17)"
   ]
  },
  {
   "cell_type": "code",
   "execution_count": 19,
   "metadata": {},
   "outputs": [
    {
     "name": "stdout",
     "output_type": "stream",
     "text": [
      "151/151 [==============================] - 0s 3ms/step\n",
      "3.1077125783 0.377483446077\n"
     ]
    }
   ],
   "source": [
    "test_loss, test_acc = model.evaluate(valid_x, valid_y)\n",
    "print(test_loss, test_acc)\n"
   ]
  },
  {
   "cell_type": "code",
   "execution_count": null,
   "metadata": {},
   "outputs": [],
   "source": []
  }
 ],
 "metadata": {
  "kernelspec": {
   "display_name": "Python 3",
   "language": "python",
   "name": "python3"
  },
  "language_info": {
   "codemirror_mode": {
    "name": "ipython",
    "version": 3
   },
   "file_extension": ".py",
   "mimetype": "text/x-python",
   "name": "python",
   "nbconvert_exporter": "python",
   "pygments_lexer": "ipython3",
   "version": "3.6.4"
  }
 },
 "nbformat": 4,
 "nbformat_minor": 2
}
