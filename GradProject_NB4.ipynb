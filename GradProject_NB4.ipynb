{
 "cells": [
  {
   "cell_type": "markdown",
   "metadata": {},
   "source": [
    "<h1> DS200A Computer Vision Assignment</h1>"
   ]
  },
  {
   "cell_type": "markdown",
   "metadata": {},
   "source": [
    "<h2>  Part Four: Extension Activities</h2>\t\n"
   ]
  },
  {
   "cell_type": "markdown",
   "metadata": {},
   "source": [
    "TensorFlow (Optional)- Now, try using TensorFlow to categorize your images. The accuracy should be significantly higher due to the usage of nueral nets\n",
    "\n"
   ]
  },
  {
   "cell_type": "code",
   "execution_count": 1,
   "metadata": {},
   "outputs": [
    {
     "name": "stderr",
     "output_type": "stream",
     "text": [
      "Using TensorFlow backend.\n"
     ]
    }
   ],
   "source": [
    "import tensorflow as tf\n",
    "import keras\n",
    "import pandas as pd\n",
    "import numpy as np\n",
    "from sklearn.model_selection import train_test_split\n",
    "from keras.layers import Conv2D, MaxPooling2D, Flatten, Dense"
   ]
  },
  {
   "cell_type": "code",
   "execution_count": 3,
   "metadata": {},
   "outputs": [],
   "source": [
    "train_df = pd.read_pickle(\"starting_data.pkl\").\\\n",
    "drop(labels=[\"filename\", \"aspect\"], axis = 1)"
   ]
  },
  {
   "cell_type": "code",
   "execution_count": 4,
   "metadata": {},
   "outputs": [],
   "source": [
    "#Normalizes images that are not 3-channel by setting all 3 channels equal\n",
    "#to the first channel. \n",
    "#Input: Image (2 or 3 channel)\n",
    "#Output: Image (3 channel normalized)\n",
    "def normalize(image):\n",
    "    if len(image.shape) == 2:\n",
    "        temp = np.zeros((image.shape[0], image.shape[1], 3))\n",
    "        for i in range(3):\n",
    "            temp[:,:,i] = image\n",
    "        image = temp\n",
    "    return image\n",
    "\n",
    "train_df['image'] = train_df['image'].apply(normalize)"
   ]
  },
  {
   "cell_type": "code",
   "execution_count": 5,
   "metadata": {},
   "outputs": [],
   "source": [
    "#Transforms numpy array of images to ensure compatibility with TensorFlow\n",
    "def transform(arr):\n",
    "    new_arr = np.zeros((len(arr), 128, 128, 3))\n",
    "    for i in range(len(arr)):\n",
    "        new_arr[i] = arr[i]\n",
    "    return new_arr"
   ]
  },
  {
   "cell_type": "code",
   "execution_count": 7,
   "metadata": {},
   "outputs": [],
   "source": [
    "#Split the training dataframe into a training and validation set, then\n",
    "#separate each set into features and labels. \n",
    "\n",
    "train, valid = train_test_split(train_df, test_size=0.1, random_state=42,\\\n",
    "                                shuffle=True, stratify=train_df['class'])\n",
    "\n",
    "train_x, train_y = np.array(train['image']), np.array(train['class'])\n",
    "train_x = transform(train_x / 255)\n",
    "valid_x, valid_y = np.array(valid['image']), np.array(valid['class'])\n",
    "valid_x = transform(valid_x / 255)"
   ]
  },
  {
   "cell_type": "code",
   "execution_count": 9,
   "metadata": {},
   "outputs": [
    {
     "name": "stdout",
     "output_type": "stream",
     "text": [
      "Epoch 1/5\n",
      "1350/1350 [==============================] - 51s 38ms/step - loss: 8.6752 - acc: 0.1089\n",
      "Epoch 2/5\n",
      "1350/1350 [==============================] - 50s 37ms/step - loss: 7.6691 - acc: 0.1207\n",
      "Epoch 3/5\n",
      "1350/1350 [==============================] - 53s 39ms/step - loss: 6.8710 - acc: 0.1222\n",
      "Epoch 4/5\n",
      "1350/1350 [==============================] - 55s 41ms/step - loss: 6.1662 - acc: 0.1089\n",
      "Epoch 5/5\n",
      "1350/1350 [==============================] - 58s 43ms/step - loss: 5.5403 - acc: 0.1244\n"
     ]
    },
    {
     "data": {
      "text/plain": [
       "<keras.callbacks.History at 0x25373e6c518>"
      ]
     },
     "execution_count": 9,
     "metadata": {},
     "output_type": "execute_result"
    }
   ],
   "source": [
    "#Define a simple CNN model using Keras layers to perform deep learning. \n",
    "#The model consists of convolutional layers, pooling layers and some\n",
    "#dense layers at the end with an output to a final layer of 20 nodes\n",
    "#that will help us classify our images. Regularization is achieved\n",
    "#with keras regularizers (specifically L2 loss) to prevent overfitting. \n",
    "#That said, with a small dataset like this it is very difficult to prevent\n",
    "#overfitting. \n",
    "model = keras.Sequential()\n",
    "model.add(Conv2D(32, (3,3), input_shape = (128, 128, 3), activation = 'relu'))\n",
    "model.add(MaxPooling2D(pool_size = (2, 2)))\n",
    "model.add(Conv2D(32, (3, 3), activation = 'relu'))\n",
    "model.add(MaxPooling2D(pool_size = (2, 2)))\n",
    "model.add(Flatten())\n",
    "model.add(Dense(128, activation = 'relu',\\\n",
    "                kernel_regularizer=keras.regularizers.l2(0.001)))\n",
    "model.add(Dense(64, activation = 'relu',\\\n",
    "                kernel_regularizer=keras.regularizers.l2(0.05)))\n",
    "model.add(Dense(20, activation = 'sigmoid',\\\n",
    "                kernel_regularizer=keras.regularizers.l2(0.05)))\n",
    "\n",
    "model.compile(optimizer=tf.train.AdamOptimizer(), \n",
    "              loss='sparse_categorical_crossentropy',\n",
    "              metrics=['accuracy'])\n",
    "model.fit(train_x, train_y, batch_size = 128, epochs = 5)"
   ]
  },
  {
   "cell_type": "code",
   "execution_count": 11,
   "metadata": {},
   "outputs": [
    {
     "name": "stdout",
     "output_type": "stream",
     "text": [
      "151/151 [==============================] - 2s 14ms/step\n",
      "Validation loss is  5.41227209331\n",
      "Validation Accuracy is  0.152317878821\n"
     ]
    }
   ],
   "source": [
    "#Evaluates the model on the unseen validation set\n",
    "valid_loss, valid_acc = model.evaluate(valid_x, valid_y)\n",
    "print('Validation loss is ', valid_loss)\n",
    "print('Validation Accuracy is ', valid_acc)\n"
   ]
  },
  {
   "cell_type": "code",
   "execution_count": null,
   "metadata": {},
   "outputs": [],
   "source": []
  }
 ],
 "metadata": {
  "kernelspec": {
   "display_name": "Python 3",
   "language": "python",
   "name": "python3"
  },
  "language_info": {
   "codemirror_mode": {
    "name": "ipython",
    "version": 3
   },
   "file_extension": ".py",
   "mimetype": "text/x-python",
   "name": "python",
   "nbconvert_exporter": "python",
   "pygments_lexer": "ipython3",
   "version": "3.6.2"
  }
 },
 "nbformat": 4,
 "nbformat_minor": 2
}
