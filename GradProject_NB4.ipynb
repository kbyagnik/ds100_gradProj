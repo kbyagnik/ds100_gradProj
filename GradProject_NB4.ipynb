{
 "cells": [
  {
   "cell_type": "markdown",
   "metadata": {},
   "source": [
    "<h1> DS200A Computer Vision Assignment</h1>"
   ]
  },
  {
   "cell_type": "markdown",
   "metadata": {},
   "source": [
    "<h2>  Part Four: Extension Activities</h2>\t\n"
   ]
  },
  {
   "cell_type": "markdown",
   "metadata": {},
   "source": [
    "TensorFlow (Optional)- Now, try using TensorFlow to categorize your images. The accuracy should be significantly higher due to the usage of nueral nets\n",
    "\n"
   ]
  },
  {
   "cell_type": "code",
   "execution_count": 1,
   "metadata": {},
   "outputs": [
    {
     "name": "stderr",
     "output_type": "stream",
     "text": [
      "Using TensorFlow backend.\n"
     ]
    }
   ],
   "source": [
    "import tensorflow as tf\n",
    "import keras\n",
    "import pandas as pd\n",
    "import numpy as np\n",
    "from sklearn.model_selection import train_test_split\n",
    "from keras.layers import Conv2D, MaxPooling2D, Flatten, Dense"
   ]
  },
  {
   "cell_type": "code",
   "execution_count": 3,
   "metadata": {},
   "outputs": [],
   "source": [
    "train_df = pd.read_pickle(\"starting_data_part1.pkl\").\\\n",
    "drop(labels=[\"filename\", \"aspect\"], axis = 1)"
   ]
  },
  {
   "cell_type": "code",
   "execution_count": 4,
   "metadata": {},
   "outputs": [],
   "source": [
    "#Normalize: If a image only has 2 channels, it sets all 3 channels to the \n",
    "#1st channel for easier processing. This occurs in about 1% of cases. \n",
    "def normalize(image):\n",
    "    if len(image.shape) == 2:\n",
    "        temp = np.zeros((image.shape[0], image.shape[1], 3))\n",
    "        for i in range(3):\n",
    "            temp[:,:,i] = image\n",
    "        image = temp\n",
    "    return image\n",
    "\n",
    "train_df['image'] = train_df['image'].apply(normalize)"
   ]
  },
  {
   "cell_type": "code",
   "execution_count": 5,
   "metadata": {},
   "outputs": [],
   "source": [
    "#Transform: Reshapes the array for processing in TensorFlow. \n",
    "def transform(arr):\n",
    "    new_arr = np.zeros((len(arr), 128, 128, 3))\n",
    "    for i in range(len(arr)):\n",
    "        new_arr[i] = arr[i]\n",
    "    return new_arr"
   ]
  },
  {
   "cell_type": "code",
   "execution_count": 6,
   "metadata": {},
   "outputs": [],
   "source": [
    "#Splits the training dataframe into a train and validation set, and then\n",
    "#splits those into the respective feature matrices and the labels. \n",
    "train, valid = train_test_split(train_df, test_size=0.1, random_state=42,\\\n",
    "                                shuffle=True, stratify=train_df['class'])\n",
    "\n",
    "train_x, train_y = np.array(train['image']), np.array(train['class'])\n",
    "train_x = transform(train_x / 255)\n",
    "valid_x, valid_y = np.array(valid['image']), np.array(valid['class'])\n",
    "valid_x = transform(valid_x / 255)"
   ]
  },
  {
   "cell_type": "code",
   "execution_count": 7,
   "metadata": {},
   "outputs": [
    {
     "name": "stdout",
     "output_type": "stream",
     "text": [
      "Epoch 1/17\n",
      "1350/1350 [==============================] - 10s 8ms/step - loss: 8.1601 - acc: 0.1126\n",
      "Epoch 2/17\n",
      "1350/1350 [==============================] - 6s 4ms/step - loss: 6.5430 - acc: 0.1652\n",
      "Epoch 3/17\n",
      "1350/1350 [==============================] - 6s 5ms/step - loss: 5.4022 - acc: 0.1919\n",
      "Epoch 4/17\n",
      "1350/1350 [==============================] - 6s 5ms/step - loss: 4.5676 - acc: 0.2289\n",
      "Epoch 5/17\n",
      "1350/1350 [==============================] - 6s 4ms/step - loss: 3.8568 - acc: 0.2926\n",
      "Epoch 6/17\n",
      "1350/1350 [==============================] - 6s 5ms/step - loss: 3.3586 - acc: 0.3719\n",
      "Epoch 7/17\n",
      "1350/1350 [==============================] - 6s 5ms/step - loss: 3.0068 - acc: 0.4259\n",
      "Epoch 8/17\n",
      "1350/1350 [==============================] - 6s 4ms/step - loss: 2.6856 - acc: 0.4844\n",
      "Epoch 9/17\n",
      "1350/1350 [==============================] - 6s 4ms/step - loss: 2.4163 - acc: 0.5659\n",
      "Epoch 10/17\n",
      "1350/1350 [==============================] - 6s 4ms/step - loss: 2.2013 - acc: 0.6111\n",
      "Epoch 11/17\n",
      "1350/1350 [==============================] - 6s 5ms/step - loss: 2.0281 - acc: 0.6630\n",
      "Epoch 12/17\n",
      "1350/1350 [==============================] - 6s 4ms/step - loss: 1.9324 - acc: 0.7000\n",
      "Epoch 13/17\n",
      "1350/1350 [==============================] - 6s 5ms/step - loss: 1.6908 - acc: 0.7719\n",
      "Epoch 14/17\n",
      "1350/1350 [==============================] - 6s 4ms/step - loss: 1.6419 - acc: 0.8007\n",
      "Epoch 15/17\n",
      "1350/1350 [==============================] - 6s 4ms/step - loss: 1.5032 - acc: 0.8474\n",
      "Epoch 16/17\n",
      "1350/1350 [==============================] - 6s 5ms/step - loss: 1.7074 - acc: 0.7800\n",
      "Epoch 17/17\n",
      "1350/1350 [==============================] - 6s 5ms/step - loss: 1.4791 - acc: 0.8563\n"
     ]
    },
    {
     "data": {
      "text/plain": [
       "<keras.callbacks.History at 0x2a03c5b7828>"
      ]
     },
     "execution_count": 7,
     "metadata": {},
     "output_type": "execute_result"
    }
   ],
   "source": [
    "# Builds a simple CNN for image recognition, consisting of convolutional layers,\n",
    "# max pooling layers, and some densely connected layers at the end leading to\n",
    "# a final layer of 20 neurons that help predict the category. Regularization\n",
    "# is achieved by Keras kernel_regularizers during the Dense layers, although\n",
    "# it's hard to get good regularzation with a very small dataset. \n",
    "model = keras.Sequential()\n",
    "model.add(Conv2D(32, (3,3), input_shape = (128, 128, 3), activation = 'relu'))\n",
    "model.add(MaxPooling2D(pool_size = (2, 2)))\n",
    "model.add(Conv2D(32, (3, 3), activation = 'relu'))\n",
    "model.add(MaxPooling2D(pool_size = (2, 2)))\n",
    "model.add(Flatten())\n",
    "model.add(Dense(128, activation = 'relu', kernel_regularizer=\n",
    "                keras.regularizers.l2(0.001)))\n",
    "model.add(Dense(64, activation = 'relu', kernel_regularizer=\n",
    "                keras.regularizers.l2(0.05)))\n",
    "model.add(Dense(20, activation = 'sigmoid', kernel_regularizer=\n",
    "                keras.regularizers.l2(0.05)))\n",
    "\n",
    "model.compile(optimizer=tf.train.AdamOptimizer(), \n",
    "              loss='sparse_categorical_crossentropy',\n",
    "              metrics=['accuracy'])\n",
    "model.fit(train_x, train_y, batch_size = 64, epochs = 17)"
   ]
  },
  {
   "cell_type": "code",
   "execution_count": 8,
   "metadata": {},
   "outputs": [
    {
     "name": "stdout",
     "output_type": "stream",
     "text": [
      "151/151 [==============================] - 1s 5ms/step\n",
      "3.29160676413 0.384105962633\n"
     ]
    }
   ],
   "source": [
    "#Evaluates the model on the unseen validations et. \n",
    "test_loss, test_acc = model.evaluate(valid_x, valid_y)\n",
    "print('Test Loss is: ', test_loss)\n",
    "print('Test Accuracy is: ', test_acc)\n"
   ]
  },
  {
   "cell_type": "code",
   "execution_count": null,
   "metadata": {},
   "outputs": [],
   "source": []
  }
 ],
 "metadata": {
  "kernelspec": {
   "display_name": "Python 3",
   "language": "python",
   "name": "python3"
  },
  "language_info": {
   "codemirror_mode": {
    "name": "ipython",
    "version": 3
   },
   "file_extension": ".py",
   "mimetype": "text/x-python",
   "name": "python",
   "nbconvert_exporter": "python",
   "pygments_lexer": "ipython3",
   "version": "3.6.2"
  }
 },
 "nbformat": 4,
 "nbformat_minor": 2
}
